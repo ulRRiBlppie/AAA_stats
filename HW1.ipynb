{
 "cells": [
  {
   "cell_type": "markdown",
   "metadata": {
    "id": "ix5mg3lvmi-0"
   },
   "source": [
    "# Прикладная статистика. ДЗ 1.\n",
    "# Академия Аналитиков Авито"
   ]
  },
  {
   "cell_type": "markdown",
   "metadata": {
    "id": "Ia8PT-uBmoxo"
   },
   "source": [
    "__Правила:__\n",
    "- Финальный дедлайн: **2022-11-30 23:59**. \n",
    "- После того как ваше решение проверят и ответят, вам дается неделя на исправление тех задач, о которых скажет проверяющий. Ответ и обсуждение решения — в телеграме.\n",
    "\n",
    "- Выполненную работу нужно отправить\n",
    "    - в чатик HW1-<ваше имя> через бота @AAA_stats23_bot\n",
    "    - или в личные сообщения боту.\n",
    "- В качестве решения нужно отправить файл ipynb. Ссылка на интернет-ресурсы не принимается. Не публикуйте решения в открытом доступе!\n",
    "- Для выполнения задания используйте этот ноутбук в качествие основы, ничего не удаляя из него. **При этом можно добавлять новые ячейки!**\n",
    "- в ячейках с комменарием `#Автопроверка` нужно заполнить содержимое функций и классов (если есть), которые будут уже объявлены в этой ячейке. При этом:\n",
    "    - Нельзя убрирать или переставять `#Автопроверка` в ячейке. \n",
    "    - Нельзя менять сигнатуру и возвращаемое значение функций. То есть добавлять любой код можно, но удалять, что уже написано - нельзя.\n",
    "    - Нельзя ничего импортировать в таких ячейках. Все доступные для использования библиотеки будут указаны заранее. Такие слова, как `import`, `globals`, `locals`, `eval`, `exec` также нельзя использовать внутри ячеек.\n",
    "    - Нельзя использовать библиотеки, кроме тех, что указаны в задании. Ваш код должен работать именно с эти набором библиотек без любого дополнительного импорта!\n",
    "    - Нельзя использовать код из других ячеек ноутбука (кроме ячейки с импортом, в которой указаны все доступные библиотеки). Единственное исключение - если вы проставите в начало такой ячейки слово `#Автопроверка`. Тогда вы можете использовать код из этой ячейки.\n",
    "    - В случае нарушения этого правила автопроверка будет провалена и вы не получите часть баллов за задачу. \n",
    "    - В случае, если есть несколько ячеек автопроверки, то в каждой такой ячейке можно использовать созданные вами функции (или классы) из других ячеек автопроверки."
   ]
  },
  {
   "cell_type": "code",
   "execution_count": 56,
   "metadata": {
    "id": "dKDxSJ9WS_tk"
   },
   "outputs": [],
   "source": [
    "from collections import namedtuple\n",
    "from scipy.stats import binom\n",
    "import math\n",
    "import numpy as np"
   ]
  },
  {
   "cell_type": "markdown",
   "metadata": {
    "id": "PJ-OUCn7atBd"
   },
   "source": [
    "# Общие замечания по задачам с автопроверкой\n",
    "\n",
    "Во всех задачах далее, где потребуется автопроверка, можно использовать только следующие библиотеки:\n",
    "\n",
    "```\n",
    "from collections import namedtuple\n",
    "from scipy.stats import binom\n",
    "import math\n",
    "import numpy as np\n",
    "```\n",
    "\n",
    "Еще раз обращаем внимание, что в ячейках автопроверки __не__ должны быть импортированы какие-либо библиотеки. В других ячейках импортировать библиотеки можно, но при проверке использованы будут только указанные."
   ]
  },
  {
   "cell_type": "markdown",
   "metadata": {
    "id": "ZCxtcEm9TK0j"
   },
   "source": [
    "## Задача 1. 3 балла\n",
    "\n",
    "[Осьминог Пауль](https://www.championat.com/football/article-3238881-samye-izvestnye-zhivotnye-predskazateli.html) 14 раз пробовал угадать победителя футбольного матча.\n",
    "12 раз он угадал правильно, 2 раза — ошибся. Мы хотим проверить гипотезу:\n",
    "\n",
    " - $H_0$: осьминог угадывает победителя матча с вероятностью 0.5\n",
    " - $H_1$: осьминог выбирает победителя  матча с вероятностью $\\neq$ 0.5\n",
    "\n",
    "#### Пункт А. 1 балл: \n",
    "\n",
    "### На зачет\n",
    "\n",
    "Вам нужно разработать статистический критерий для проверки этой гипотезы, а также посчитать p-value."
   ]
  },
  {
   "cell_type": "markdown",
   "metadata": {},
   "source": [
    "#### теор. выкладки\n",
    "Вообще говоря, можно предложить любой критерий, хоть критерий Сноу - так как в задании нет никаких требований к тому, насколько критерий должен быть \"хорошим\".  \n",
    "Однако я все же воспользуюсь критерием из лекций на основе биномиального распределения.  \n",
    "К тому же постановка задачи выше подразумевает, что критерий должет быть двухсторонним. Я считаю это разумным, так как у меня нет никакой априорной информации, что Пауль угадывает \"лучше\", а не \"хуже\" монетки. К тому же я не верю в экстрасенсов, особенно животных, особенно осьминогов, при всем уважении к осьминогам. В данном примере  (когда верных угадываний больше половины) двухсторонний критерий на уровне значимости $\\alpha $ выдаст такой же вердикт как и односторонний на уровне значимости $\\alpha/2$, то есть двухсторонний критерий будет \"занижать\" исключительность Пауля. \n",
    "\n",
    "\n"
   ]
  },
  {
   "cell_type": "markdown",
   "metadata": {},
   "source": [
    "Чтобы решить эту задачу, надо переформулировать ее на языке математики:\n",
    "- Пусть $p$ &mdash; истинный параметр конверсии. Тогда наша гипотеза звучит так: \n",
    "    - $H_0: p = p_0 = 0.5\\ vs.\\ H_1: p \\ne 0.5$\n",
    "    - Нас устраивает ошибка первого рода в $\\alpha$.\n",
    "- Какой критерий использовать?\n",
    "    - Рассмотрим статистику  $T(X^n) = \\underset{i=1}{\\overset{n}{\\sum}} X_i,\\ T \\overset{H_0}{\\sim} \\text{Binom} (n, p_0)$ с функцией распределения $F(\\cdot)$, где  $X_i$ &mdash; бернулевская случайная величина, равная 1, если Пауль угадал и 0 в противном случае. \n",
    "    - Когда мы отвергнем поставленную гипотезу?  \n",
    "        Если $T(X^n) \\geq U \\vee T(X^n) \\leq L$, то мы отвергнем гипотезу для чисел $L$ и $U$, которые определим ниже. Рассмотрим симметричный критерий, то есть такой, что мы подбираем числа $L$ и $U$ таким образом, что $P_{H_0}(T(X^n) \\geq U ) \\leq \\alpha/2$ или $P_{H_0}(T(X^n) \\leq L ) \\leq \\alpha/2$. Ниже я покажу, что при $L = F^{-1}(\\alpha/2) - 1$ и $U = F^{-1}(1 - \\alpha/2) + 1$ критерий имеет ошибку первого рода, не превосходящую  $\\alpha$, то есть $P_{H_0}(T(X^n) \\geq U \\vee T(X^n) \\leq L) \\leq \\alpha$.\n",
    "        \n",
    "- Почему ошибка первого рода такого критерия не больше альфа?\n",
    "\n",
    "     - По определению квантиль распределения $F^{-1}(p) = \\{\\min\\ x: F(x) \\geq p \\}$, то есть $ P_{H_0}(T(X^n) \\leq L) =  P_{H_0}(T(X^n) \\leq F^{-1}(\\alpha/2) ) \\geq \\alpha/2$, но $P_{H_0}(T(X^n) \\leq L-1)  < \\alpha/2$. (Вообще говоря, нам нужнно нестрогое неравенство и нас устроил бы случай, если бы $P_{H_0}(T(X^n) \\leq F^{-1}(\\alpha/2) ) = \\alpha/2$ и мы могли бы в качестве $L$ взять квантиль без вычитания единицы. Однако, кажется, что тогда придется еще и разбираться с ошибками округления, а в реальных задачах малые выборки маловероятны, да и нет ничего страшного если мы возьмем альфа строго меньше альфа максимального.\n",
    "     \n",
    "     - Оценка для второй части\n",
    "     $$\n",
    "                \\begin{align}\n",
    "                    &P_{H_0}(T(X^n) \\geq U) = \\\\\n",
    "                    &P_{H_0}(T(X^n) \\geq F^{-1}(1 - \\alpha/2) + 1) = \\\\\n",
    "                    &P_{H_0}(T(X^n) > F^{-1}(1 - \\alpha/2) ) = \\\\\n",
    "                    & 1 - P_{H_0}(T(X^n) \\leq F^{-1}(1 - \\alpha/2)) = \\\\ \n",
    "                    & 1 - F(F^{-1}(1 - \\alpha/2)) \\leq \\\\\n",
    "                    & \\{\\text{из определения } F(F^{-1}(1 - \\alpha/2)) \\geq 1 - \\alpha/2\\} \\\\\n",
    "                    & 1 - (1 - \\alpha/2) = \\\\ \n",
    "                    & \\alpha/2\n",
    "                \\end{align}\n",
    "                $$\n",
    "\n",
    "          То есть $P_{H_0}(T(X^n) \\geq U) \\leq \\alpha/2$\n",
    "        \n",
    "     - Таким образом $P_{H_0}(T(X^n) \\leq L) \\vee P_{H_0}(T(X^n) \\leq U ) = P_{H_0}(T(X^n) \\leq L) + P_{H_0}(T(X^n) \\leq U ) < \\alpha/2 + \\alpha/2 = \\alpha$\n",
    "- Итого, решающее правило в общем виде:\n",
    "    - $L = F^{-1}(\\alpha/2) - 1$ и $U = F^{-1}(1 - \\alpha/2) + 1$\n",
    "    - Если $T(X^n) \\leq L  \\vee T(X^n) \\geq U$ - отвергнуть нулевую гипотезу\n",
    "    - В противном случае, то есть если $T(X^n) \\in (L, U)$ - не отклонять нулевую гипотезу\n",
    "    \n",
    "    \n",
    "    \n"
   ]
  },
  {
   "cell_type": "markdown",
   "metadata": {},
   "source": [
    "Теперь можно посчитать значение $p_{value}$. Пусть наблюдаемое значение статистики $T(X^n) = t \\geq n/2$. (Неравенство верно в нашем случае, не пишу в общем случае, чтобы не мучиться с модулями).  \n",
    "Из определения $p_{value}$\n",
    "<!-- $$\n",
    "    \\begin{align}\n",
    "        &p_{value} = P_{H_0}(T(X^n)\\geq t \\vee T(X^n) \\leq n - t) =  \\\\\n",
    "        &P_{H_0}(T(X^n)\\geq t) +  (T(X^n) \\leq n - t) = \\\\\n",
    "        &P_{H_0}(T(X^n) > t - 1) +  (T(X^n) \\leq n - t ) = \\\\\n",
    "        &1 - F(t-1) + F(n-t) \n",
    "    \\end{align}\n",
    "    $$\n",
    "     -->\n",
    "    \n",
    "$$\n",
    "    \\begin{align}\n",
    "        &p_{value} = 2\\cdot \\min(P_{H_0}(T(X^n)\\geq t), P_{H_0}(T(X^n)\\leq t)) = \\\\\n",
    "        &2\\cdot \\min(P_{H_0}(T(X^n) > t - 1), P_{H_0}(T(X^n)\\leq t)) = \\\\\n",
    "        &2\\cdot \\min( 1 - F(t-1), F(t)) \n",
    "    \\end{align}\n",
    "    $$\n"
   ]
  },
  {
   "cell_type": "code",
   "execution_count": 57,
   "metadata": {},
   "outputs": [
    {
     "name": "stdout",
     "output_type": "stream",
     "text": [
      "p_value = 0.012939453125\n"
     ]
    }
   ],
   "source": [
    "p = 0.5\n",
    "n = 14\n",
    "t = 12\n",
    "\n",
    "print(\"p_value =\",2*(1 - binom(n = n, p = p).cdf(t-1)))"
   ]
  },
  {
   "cell_type": "markdown",
   "metadata": {},
   "source": [
    "А если бы мы рассматривали односторонную правостороннюю гипотезу \n",
    "$p_{value} = P_{H_0}(T(X^n)\\geq t  = 1 - F(t-1) $?\n"
   ]
  },
  {
   "cell_type": "code",
   "execution_count": 58,
   "metadata": {},
   "outputs": [
    {
     "name": "stdout",
     "output_type": "stream",
     "text": [
      "p_value = 0.0064697265625\n"
     ]
    }
   ],
   "source": [
    "p = 0.5\n",
    "n = 14\n",
    "t = 12\n",
    "print(\"p_value =\", 1 - binom(n = n, p = p).cdf(t-1))"
   ]
  },
  {
   "cell_type": "markdown",
   "metadata": {
    "executionInfo": {
     "elapsed": 4,
     "status": "ok",
     "timestamp": 1665948902721,
     "user": {
      "displayName": "Dmitriy Lunin",
      "userId": "12580797963137539995"
     },
     "user_tz": -180
    },
    "id": "XiS5n6kXSobS"
   },
   "source": [
    "На уровне значимости $\\alpha = 0.01$ мы бы отвергли одностороннюю нулевую гипотезу, но не отвергаем двухстороннюю нулевую гипотезу."
   ]
  },
  {
   "cell_type": "markdown",
   "metadata": {
    "id": "TA2pOET1UA19"
   },
   "source": [
    "Реализуйте критерий `check_paul_criterion(n, k, alpha)`, где \n",
    "- `n` &mdash; количество матчей;\n",
    "- `k` &mdash; количество верных предсказаний от осьминога;\n",
    "- `alpha` &mdash; уровень значимости критерия.\n",
    "\n",
    "Функция должна вернуть `PaulCheckResults` с полями\n",
    "- is_rejected: отверглась или нет гипотеза H_0 на уровне значимости alpha\n",
    "- pvalue\n"
   ]
  },
  {
   "cell_type": "code",
   "execution_count": 59,
   "metadata": {
    "id": "LwmVcAYhUAI1"
   },
   "outputs": [],
   "source": [
    "# Автопроверка\n",
    "\n",
    "PaulCheckResults = namedtuple('PaulCheckResults', ['is_rejected', 'pvalue'])\n",
    "\n",
    "def check_paul_criterion(n: int, k: int, alpha: float = 0.05):\n",
    "    \"\"\"\n",
    "    Параметры:\n",
    "    - n: количество матчей\n",
    "    - k: количество верных предсказаний от осьминога\n",
    "    - alpha: уровень значимости критерия.\n",
    "        \n",
    "    Возвращает:\n",
    "    - PaulCheckResults с полями:\n",
    "        - is_rejected: bool\n",
    "            - отверглась или нет гипотеза H_0 \n",
    "                       на уровне значимости alpha\n",
    "        - pvalue: float\n",
    "    \"\"\"\n",
    "\n",
    "    is_rejected = None\n",
    "    pvalue = None\n",
    "\n",
    "    zero_distribution = binom(p = 0.5, n = n)\n",
    "    \n",
    "    L = zero_distribution.ppf(alpha/2) - 1\n",
    "    U = zero_distribution.ppf(1 - alpha/2) + 1\n",
    "    is_rejected = (k <= L or k>= U)\n",
    "    pvalue = 2*min(1 - zero_distribution.cdf(k-1), zero_distribution.cdf(k))\n",
    "    pvalue = min(1, pvalue )\n",
    "\n",
    "    return PaulCheckResults(is_rejected, pvalue)\n"
   ]
  },
  {
   "cell_type": "code",
   "execution_count": 60,
   "metadata": {},
   "outputs": [
    {
     "data": {
      "text/plain": [
       "PaulCheckResults(is_rejected=True, pvalue=0.012939453125)"
      ]
     },
     "execution_count": 60,
     "metadata": {},
     "output_type": "execute_result"
    }
   ],
   "source": [
    "check_paul_criterion(n = 14, k = 12, alpha = 0.05)"
   ]
  },
  {
   "cell_type": "markdown",
   "metadata": {
    "id": "M86GBVKbSYR6"
   },
   "source": [
    "#### Пункт B. 2 балла: \n",
    "\n",
    "Какие выводы можно сделать из полученного результата?"
   ]
  },
  {
   "cell_type": "markdown",
   "metadata": {
    "id": "bmvrxyMlT_mq"
   },
   "source": [
    "При двухсторонней гипотезе $p_{value} = 1.3\\%$, то есть осьминог Пауль относится к $1.3\\%$ самых \"удачливых\" осьминогов, которые конечно же выбирают наугад. Если бы мы взяли 1000 осьминогов, то 13 (или около того) из них показалали бы такой же или более экстремальный результат, что и осьминог Пауль. \n",
    "\n",
    "Следует ли отсюда, что осьминог Пауль - экстрасенс? Нет"
   ]
  },
  {
   "cell_type": "markdown",
   "metadata": {
    "id": "ukkQeXMzadSw"
   },
   "source": [
    "## Задача 2. 3 балла\n",
    "\n",
    "### На зачет\n",
    "\n",
    "Мы разработали новый дизайн нашего продукта. Вероятность, что он понравится случайному человеку — $p$, и она нам неизвестна. Мы хотим\n",
    "проверить $H_0: p = 1$ с помощью статистического критерия c уровнем значимости $\\alpha$. Предложить критерий для решения этой задачи."
   ]
  },
  {
   "cell_type": "markdown",
   "metadata": {
    "id": "oZx--5Giam5G"
   },
   "source": [
    "При справедливости нулевой гипотезы, вероятность нахождения человека, которому не нравится дизайн продукта - 0. То есть нулевое распределие для одного человека - это бернулевская случайная величина $X_i$ с $p = 1$ (принимает значение 1, если человеку нравится дизайн и 0 в противном случае), а для выборки из $n$ людей - статистика $T(X^n) = \\sum X_i$ имеет распределение $Binom (n, p = 1)$ (дает кол-во людей, которым нравится дизайн).\n",
    "\n",
    "Критерий, который сразу приходит в голову:\n",
    "   - Если статистика $T(X^n) < n$, отвергнуть гипотезу $H_0$.\n",
    "   - Если статистика $T(X^n) = n$, то  не отвергать гипотезу $H_0$.\n",
    "   \n",
    "Однако видно, что вероятность ошибки первого рода в точности равняется нулю, так как при истинности нулевой гипотезы, у нас вероятность \"выпадения нуля\" и следовательно вероятность наблюдения $k < n$ равна нулю.\n",
    "\n",
    "Если же нам необходим критерий с ошибкой первого рода, равной заданному $\\alpha$, то предлагаю такой:\n",
    "   - Если статистика $T(X^n) < n$, отвергнуть гипотезу $H_0$.\n",
    "   - Если статистика $T(X^n) = n$, то с вероятностью $1-\\alpha$ не отвергать гипотезу $H_0$, с вероятностью $\\alpha$ отвергнуть гипотезу $H_0$.\n",
    "   \n",
    "Очевидно, вероятность ошибки первого рода такого критерия равна $\\alpha$ в точности.\n",
    "\n",
    "Какой критерий лучше?  \n",
    "   - Первый критерий:  \n",
    "       \\- Первые критерий имеют нулевую ошибку первого рода и соответсвенно меньшую мощность, чем второй.  \n",
    "       \\- Критерий более консервативный, чем просит бизнес, то есть не совсем соответсвует поставленной задаче.  \n",
    "       \\+ Критерий интуитивно понятен. \n",
    "       \n",
    "   - Второй критерий:  \n",
    "       \\+ Имеет большую мощность, чем первый. \n",
    "       \\+ В точности соответсвует требованиям к ошибьке первого рода  \n",
    "       \\- Не понятен бизнесу. \"Как так, у нас нет ни одного недовольного человека, а вы говорите, что он нравится не всем??\"\n",
    "       \n",
    "Я отнесусь к задаче более формально и реализиую второй критерий. Впрочем, не обещаю, что столкнувшись с реальной бизнесовой задачей, я поступил бы так же."
   ]
  },
  {
   "cell_type": "markdown",
   "metadata": {
    "id": "rcJ8DpM6anBh"
   },
   "source": [
    "Напишите функцию `calculate_number_of_users(alpha, beta, p)` — скольки людям нужно показать этот дизайн, чтобы добиться мощности `1 - beta` при заданном `p` и уровне значимости `alpha`.\n",
    "\n",
    "P.S. Утверждается, что на наших тестах ответ не будет превосходить 1000 человек."
   ]
  },
  {
   "cell_type": "code",
   "execution_count": 61,
   "metadata": {
    "id": "6MNoFCQTbCgy"
   },
   "outputs": [],
   "source": [
    "#Автопроверка\n",
    "\n",
    "def calculate_number_of_users(alpha: float, beta: float, p: float):\n",
    "    \"\"\"\n",
    "    Параметры:\n",
    "    - alpha: уровень значимости\n",
    "    - beta: инвертированная мощность критерия. мощность = 1 - beta.\n",
    "    - p: истинная вероятность того, что пользователю понравится дизайн.\n",
    "    Возвращает:\n",
    "    - number_of_users: int\n",
    "        - количество людей, которым надо показать дизайн.\n",
    "    \"\"\"\n",
    "    number_of_users = None\n",
    "    \n",
    "    def get_power(p, n, alpha):\n",
    "        return 1 - binom(p = p, n = n).pmf(n)*(1-alpha)\n",
    "\n",
    "    left_bound = 1\n",
    "    right_bound = 1000\n",
    "    \n",
    "    \n",
    "    #ограничение сверху на число человек, намекает на бисекцию\n",
    "    while left_bound + 1 < right_bound:\n",
    "        n = abs(left_bound + right_bound)//2\n",
    "        if get_power(p, n, alpha) == 1 - beta:\n",
    "            right_bound = n\n",
    "            break\n",
    "        \n",
    "        elif get_power(p, n, alpha) > 1 - beta:\n",
    "            right_bound = n\n",
    "            left_bound = left_bound\n",
    "        else:\n",
    "            right_bound = right_bound\n",
    "            left_bound = n\n",
    "        \n",
    "    number_of_users = right_bound   \n",
    "        \n",
    "\n",
    "    \n",
    "\n",
    "    return number_of_users"
   ]
  },
  {
   "cell_type": "code",
   "execution_count": 62,
   "metadata": {},
   "outputs": [
    {
     "data": {
      "image/png": "[encoded data removed]",
      "text/plain": [
       "<Figure size 640x480 with 1 Axes>"
      ]
     },
     "metadata": {},
     "output_type": "display_data"
    }
   ],
   "source": [
    "# Построим график как зависит мощность от числа человек n для фиксированного alpha и разных p\n",
    "import matplotlib.pyplot as plt\n",
    "\n",
    "def get_power(p, n, alpha):\n",
    "        return 1 - binom(p = p, n = n).pmf(n)*(1-alpha)\n",
    "\n",
    "\n",
    "n_array = np.array([i for i in range(1, 1000+1)])\n",
    "power_array1 = np.array([get_power(0.5, n, 0.05) for n in n_array])\n",
    "power_array2 = np.array([get_power(0.8, n, 0.05) for n in n_array])\n",
    "power_array3 = np.array([get_power(0.99, n, 0.05) for n in n_array])\n",
    "\n",
    "\n",
    "\n",
    "plt.plot(n_array[:100], power_array1[:100], label='p_true = 0.5')\n",
    "plt.plot(n_array[:100], power_array2[:100], label='p_true = 0.8')\n",
    "plt.plot(n_array[:100], power_array3[:100], label='p_true = 0.99')\n",
    "\n",
    "legend = plt.legend( fontsize='small')\n",
    "\n",
    "plt.xlabel('n')\n",
    "plt.ylabel('1 - beta')\n",
    "\n",
    "plt.title('Зависимость мощности от размера выборки', fontsize=10)\n",
    "plt.show()\n",
    "\n"
   ]
  },
  {
   "cell_type": "code",
   "execution_count": 63,
   "metadata": {},
   "outputs": [
    {
     "data": {
      "image/png": "[encoded data removed]",
      "text/plain": [
       "<Figure size 640x480 with 1 Axes>"
      ]
     },
     "metadata": {},
     "output_type": "display_data"
    }
   ],
   "source": [
    "# Построим график как необходимое число людей в зависимости от истинной p \n",
    "# при фиксированной alpha для разных требований к мощности \n",
    "\n",
    "p_array = np.array([i/100 for i in range(0, 100)])\n",
    "n_array1 = np.array([calculate_number_of_users(0.05, 0.1, p) for p in p_array])\n",
    "n_array2 = np.array([calculate_number_of_users(0.05, 0.2, p) for p in p_array])\n",
    "n_array3 =np.array([calculate_number_of_users(0.05, 0.4, p) for p in p_array])\n",
    "\n",
    "plt.plot(p_array, n_array1, label = 'power = 0.9')\n",
    "plt.plot(p_array, n_array2, label = 'power = 0.8')\n",
    "plt.plot(p_array, n_array3, label = 'power = 0.6')\n",
    "\n",
    "\n",
    "legend = plt.legend( fontsize='small')\n",
    "\n",
    "plt.xlabel('1 - beta')\n",
    "plt.ylabel('n')\n",
    "\n",
    "\n",
    "plt.title('Зависимость минимального размера выборки от требуемой мощности', fontsize=10)\n",
    "plt.show()\n",
    "\n",
    "\n"
   ]
  },
  {
   "cell_type": "markdown",
   "metadata": {
    "id": "Gf5XkemMeYTe"
   },
   "source": [
    "## Задача 3."
   ]
  },
  {
   "cell_type": "markdown",
   "metadata": {
    "id": "T-BANkgVegpD"
   },
   "source": [
    "По недостоверной информации (вероятность, что она верна, считаем за 1%), в новой версии нашего сайта есть сложнодетектируемый баг. Мы могли бы попросить разработку его отыскать и починить, но на это уйдет много ресурсов.\n",
    "\n",
    "К счастью, у нас есть старый AB тест (новая версия сайта vs старая), который мы можем проанализировать и с некоторой вероятностью обнаружить наличие бага просто сравнением выборок. У нас есть три критерия для проверки гипотезы \"$H_0$: баги нет, $H_1$: баг есть\":\n",
    "- критерий `A`: $\\alpha = 0.02, 1-\\beta = 0.50$\n",
    "- критерий `B`: $\\alpha = 0.05, 1-\\beta = 0.60$\n",
    "- критерий `C`: $\\alpha = 0.10, 1-\\beta = 0.70$\n",
    "\n",
    "Если критерий находит баг, мы просим разработчиков потратить силы и починить. На это у них уйдет усилий на 1 М ₽ независимо от того, найдут они баг или нет.\n",
    "Если критерий не найдет баг, затраты разработчиков будут нулевыми, но из-за бага мы потеряем в конечном итоге 50 М ₽.\n",
    "\n",
    "#### Пункт А. 2 балла: \n",
    "\n",
    "Какой критерий стоит выбрать?"
   ]
  },
  {
   "cell_type": "markdown",
   "metadata": {
    "id": "B7msl2CpeXZG"
   },
   "source": [
    "Введем некоторые обозначения:\n",
    "   - Пусть $X$ случайная величина, показывающая наши потери\n",
    "   - H_0: бага нет\n",
    "   - H_1: бага есть\n",
    "   - R: случайная величина, равная нулю, если тест не обнаружил баг, и 1 в противном случае\n",
    "   \n",
    "   \n",
    "Согласно условию\n",
    "   - $P(R = 1|H_0) = \\alpha, P(R = 0|H_1) = \\beta$\n",
    "   - $P(X) = P(X|R=1)\\cdot P(R=1) +  P(X|R=0)\\cdot P(R=0)$"
   ]
  },
  {
   "cell_type": "markdown",
   "metadata": {},
   "source": [
    "Определим 4 события:\n",
    "   - $C_{00} = (R=0)\\cap H_0$\n",
    "   - $C_{01} = (R=0)\\cap H_1$\n",
    "   - $C_{10} = (R=1)\\cap H_0$\n",
    "   - $C_{11} = (R=1)\\cap H_1$\n",
    "   \n",
    "Найдем их вероятности, подставив априорные вероятнсти $P(H_1) = 0.01, \\ P(H_0) = 0.99$\n",
    "   - $P(C_{00}) = P((R=0)\\cap H_0) = P(R=0|H_0)P(H_0) = (1 - P(R=1|H_0))P(H_0) = (1- \\alpha)P(H_0) = 0.99(1- \\alpha)$\n",
    "   - $P(C_{01}) = P((R=0)\\cap H_1) = P(R=0|H_1)P(H_1) = \\beta P(H_1) = 0.01\\beta$\n",
    "   - $P(C_{10}) = P((R=1)\\cap H_0) = P(R=1|H_0)P(H_0) = \\alpha P(H_0) = 0.99 \\alpha$\n",
    "   - $P(C_{11}) = P((R=1)\\cap H_1) = P(R=1|H_1)P(H_1) = (1 - \\beta)P(H_1) = 0.01(1 - \\beta)$\n",
    "   \n",
    "Эти события образуют полное покрытие вероятносного пространства. А значит справедлива формула полной вероятности:\n",
    "\n",
    "$P(X = k) = \\sum P(X = k|C_{ij})P(C_{ij})$, где суммирование идет по этим четырем событиям\n",
    "\n",
    "Аналогично справедлива формула для матожидания:\n",
    "\n",
    "\n",
    "$EX = \\sum E(X|C_{ij})P(C_{ij})$\n",
    "\n",
    "\n",
    "Для фиксированнаго события $C_{ij}$ случаяная величина $X$ - \"несулчайная\" случаяная величина. Вычислим ее значения, обозначив потери от ненайденного бага за $r$ (чтобы использовать во втором пункте). (Все цифры здесь и далее - в миллионах)\n",
    "\n",
    "   - $E(X|C_{00}) = X_{00} = X|(R=0\\cap H_0) = 0$\n",
    "   - $E(X|C_{01}) = X_{01} =  X|(R=0\\cap H_1) = r$\n",
    "   - $E(X|C_{10}) = X_{10} =  X|(R=1\\cap H_0) = 1$\n",
    "   - $E(X|C_{11}) = X_{11} =  X|(R=1\\cap H_1) = 1$\n",
    "   \n",
    "   \n",
    "Теперь мы готовы записать матожидание наших потерь в зависимости от характеристик критерия: $\\alpha \\text{ и } \\beta$\n",
    "\n",
    "$$\n",
    "    \\begin{align}\n",
    "        &EX = X_{00}P(C_{00}) + X_{01}P(C_{01}) + X_{10}P(C_{10}) + X_{11}P(C_{11})  = \\\\\n",
    "        &0\\cdot 0.99(1- \\alpha) + r\\cdot 0.01\\beta + 1\\cdot 0.99 \\alpha + 1\\cdot 0.01(1 - \\beta) = \\\\\n",
    "        &r\\cdot 0.01\\beta +  0.99 \\alpha +  0.01(1 - \\beta)\n",
    "    \\end{align}\n",
    "    $$\n",
    "    \n",
    "Теперь мы готовы посчитать для каждого критерия ожидаемые потери и выбрать лучший, то есть тот у которого потери минимальны"
   ]
  },
  {
   "cell_type": "code",
   "execution_count": 64,
   "metadata": {},
   "outputs": [],
   "source": [
    "def expected_loss_function(a, b, r = 50):\n",
    "    return r*0.01*b +  0.99*a +  0.01*(1 - b)"
   ]
  },
  {
   "cell_type": "code",
   "execution_count": 65,
   "metadata": {},
   "outputs": [
    {
     "name": "stdout",
     "output_type": "stream",
     "text": [
      "Ожидание потерь при использовании критерия A -- 0.2748\n",
      "Ожидание потерь при использовании критерия B -- 0.2555\n",
      "Ожидание потерь при использовании критерия C -- 0.256\n"
     ]
    }
   ],
   "source": [
    "for name, a, b in (('A', 0.02, 0.5 ), ('B', 0.05, 0.4), ('C', 0.1, 0.3)):\n",
    "    print(f'Ожидание потерь при использовании критерия {name} -- {expected_loss_function(a, b)}')"
   ]
  },
  {
   "cell_type": "markdown",
   "metadata": {},
   "source": [
    "**Вывод:** лучший критерий - критерий B"
   ]
  },
  {
   "cell_type": "markdown",
   "metadata": {
    "id": "OA9UO8ZHgPbi"
   },
   "source": [
    "#### Пункт B. 2 балла: \n",
    "Предложите оптимальную стратегию, если потери от ненайденного бага составят вместо 50М:\n",
    "- 20М рублей;\n",
    "- 3М рублей;\n",
    "- 300М рублей."
   ]
  },
  {
   "cell_type": "code",
   "execution_count": 70,
   "metadata": {
    "id": "-ZjyRGlSlid1"
   },
   "outputs": [
    {
     "name": "stdout",
     "output_type": "stream",
     "text": [
      "Потери от ненайденного бага = 20M\n",
      "\tОжидание потерь при использовании критерия A -- 0.125M\n",
      "\tОжидание потерь при использовании критерия B -- 0.136M\n",
      "\tОжидание потерь при использовании критерия C -- 0.166M\n",
      "Лучший дизайн теста - A\n",
      "\n",
      "\n",
      "Потери от ненайденного бага = 3M\n",
      "\tОжидание потерь при использовании критерия A -- 0.040M\n",
      "\tОжидание потерь при использовании критерия B -- 0.068M\n",
      "\tОжидание потерь при использовании критерия C -- 0.115M\n",
      "Лучший дизайн теста - A\n",
      "\n",
      "\n",
      "Потери от ненайденного бага = 300M\n",
      "\tОжидание потерь при использовании критерия A -- 1.525M\n",
      "\tОжидание потерь при использовании критерия B -- 1.256M\n",
      "\tОжидание потерь при использовании критерия C -- 1.006M\n",
      "Лучший дизайн теста - C\n",
      "\n",
      "\n"
     ]
    }
   ],
   "source": [
    "for r in (20, 3, 300):\n",
    "    print(f'Потери от ненайденного бага = {r}M')\n",
    "    d = {}\n",
    "    for name, a, b in (('A', 0.02, 0.5 ), ('B', 0.05, 0.4), ('C', 0.1, 0.3)):\n",
    "        x = expected_loss_function(a, b, r)\n",
    "        d[name] = x\n",
    "        print(f'\\tОжидание потерь при использовании критерия {name} -- {x:0.3f}M')\n",
    "    min_exp_loss = min(d.values())\n",
    "    \n",
    "    print(f'Лучший дизайн теста - {\", \".join([name for name, value in d.items() if value == min_exp_loss])}')\n",
    "    print('\\n')"
   ]
  }
 ],
 "metadata": {
  "colab": {
   "collapsed_sections": [],
   "provenance": []
  },
  "kernelspec": {
   "display_name": "Python 3 (ipykernel)",
   "language": "python",
   "name": "python3"
  },
  "language_info": {
   "codemirror_mode": {
    "name": "ipython",
    "version": 3
   },
   "file_extension": ".py",
   "mimetype": "text/x-python",
   "name": "python",
   "nbconvert_exporter": "python",
   "pygments_lexer": "ipython3",
   "version": "3.10.6"
  }
 },
 "nbformat": 4,
 "nbformat_minor": 1
}
